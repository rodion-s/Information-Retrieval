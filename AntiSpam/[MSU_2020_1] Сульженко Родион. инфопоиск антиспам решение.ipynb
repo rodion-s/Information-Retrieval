{
 "cells": [
  {
   "cell_type": "markdown",
   "metadata": {},
   "source": [
    "# ** Описание **"
   ]
  },
  {
   "cell_type": "markdown",
   "metadata": {},
   "source": [
    "Построить графики распределения в спам и не спам множествах следующих признаков:\n",
    "\n",
    "1\tКоличество слов на странице\n",
    "2\tСредняя длинна слова\n",
    "3\tКоличество слов в заголовке страниц (слова в теге <html><head><title> Some text </title>)\n",
    "4\tКоличество слов в анкорах ссылок (<html><body><a> Some text </a>)\n",
    "5\tКоэффициент сжатия\n",
    "\n",
    "Нужно посчитать статистику минимум по трем признакам и обязательно сделать для 1-го и 2-го признаков\n",
    "\n",
    "И отправить первое решение в соревнование https://kaggle.com/join/antispam_infopoisk\n",
    "На основании одного из указанных выше признаков попытаться разделить мн-во, так чтобы score в соревновании был больше 0.55\n",
    "\n",
    "При выполнении всех этих условия в течении семинара +1 балл к ДЗ\n",
    "\n",
    "Описание ДЗ и правил выставления за него баллов в https://inclass.kaggle.com/c/antispam-infopoisk  \n",
    "Сроки ДЗ уточнить у преподователя - обычно 2 недели"
   ]
  },
  {
   "cell_type": "code",
   "execution_count": 1,
   "metadata": {},
   "outputs": [],
   "source": [
    "# SUPPORT PYTHON 2.7\n",
    "import sys\n",
    "if sys.version_info[0] >= 3:\n",
    "    unicode = str"
   ]
  },
  {
   "cell_type": "code",
   "execution_count": 2,
   "metadata": {},
   "outputs": [],
   "source": [
    "from __future__ import division\n",
    "\n",
    "import base64\n",
    "import csv\n",
    "import gzip\n",
    "import zlib\n",
    "\n",
    "from collections import namedtuple\n",
    "\n",
    "%matplotlib inline\n",
    "import matplotlib.pyplot as plt"
   ]
  },
  {
   "cell_type": "code",
   "execution_count": 3,
   "metadata": {},
   "outputs": [],
   "source": [
    "TRACE_NUM = 1000\n",
    "import logging\n",
    "#reload(logging)\n",
    "logging.basicConfig(format='%(asctime)s %(levelname)s:%(message)s', level=logging.INFO, datefmt='%H:%M:%S')\n",
    "\n",
    "def trace(items_num, trace_num=TRACE_NUM):\n",
    "    if items_num % trace_num == 0: logging.info(\"Complete items %05d\" % items_num)\n",
    "        \n",
    "def trace_worker(items_num, worker_id, trace_num=TRACE_NUM):\n",
    "    if items_num % trace_num == 0: logging.info(\"Complete items %05d in worker_id %d\" % (items_num, worker_id))"
   ]
  },
  {
   "cell_type": "markdown",
   "metadata": {},
   "source": [
    "### Утилиты"
   ]
  },
  {
   "cell_type": "markdown",
   "metadata": {},
   "source": [
    "#### Декораторы"
   ]
  },
  {
   "cell_type": "code",
   "execution_count": 4,
   "metadata": {},
   "outputs": [],
   "source": [
    "def to_utf8(text):\n",
    "    if isinstance(text, unicode): text = text.encode('utf8')\n",
    "    return text\n",
    "\n",
    "def convert2unicode(f):\n",
    "    def tmp(text):\n",
    "        if not isinstance(text, unicode): text = text.decode('utf8')\n",
    "        return f(text)\n",
    "    return tmp\n",
    "\n",
    "def convert2lower(f):\n",
    "    def tmp(text):        \n",
    "        return f(text.lower())\n",
    "    return tmp\n",
    "\n",
    "#P.S. Декораторы могут усложнять отладку, так что от них вполне можно отказаться и воспользоваться copy-paste"
   ]
  },
  {
   "cell_type": "markdown",
   "metadata": {},
   "source": [
    "### Извлечение текста из html"
   ]
  },
  {
   "cell_type": "markdown",
   "metadata": {},
   "source": [
    "#### Извлечение текста при помощи встроенных модулей"
   ]
  },
  {
   "cell_type": "code",
   "execution_count": 5,
   "metadata": {},
   "outputs": [],
   "source": [
    "from html.parser import HTMLParser\n",
    "import re\n",
    "\n",
    "###Извлечение текста из title можно вписать сюда\n",
    "\n",
    "class TextHTMLParser(HTMLParser):\n",
    "    def __init__(self):\n",
    "        HTMLParser.__init__(self)\n",
    "        self._text = []\n",
    "        self._title = \"\"\n",
    "        self._in_title = False\n",
    "\n",
    "    def handle_data(self, data):\n",
    "        text = data.strip()\n",
    "        if len(text) > 0:\n",
    "            text = re.sub('[ \\t\\r\\n]+', ' ', text)\n",
    "            self._text.append(text + ' ')\n",
    "\n",
    "    def handle_starttag(self, tag, attrs):\n",
    "        if tag == 'p':\n",
    "            self._text.append('\\n\\n')\n",
    "        elif tag == 'br':\n",
    "            self._text.append('\\n')\n",
    "        elif tag == 'title':\n",
    "            self._in_title = True\n",
    "\n",
    "    def handle_startendtag(self, tag, attrs):\n",
    "        if tag == 'br':\n",
    "            self._text.append('\\n\\n')\n",
    "\n",
    "    def text(self):\n",
    "        return ''.join(self._text).strip()\n",
    "\n",
    "@convert2unicode\n",
    "def html2text_parser(text):\n",
    "    parser = TextHTMLParser()\n",
    "    parser.feed(text)\n",
    "    return parser.text()"
   ]
  },
  {
   "cell_type": "markdown",
   "metadata": {},
   "source": [
    "#### Извлечение текста при помощи дополнительных библиотек"
   ]
  },
  {
   "cell_type": "code",
   "execution_count": 6,
   "metadata": {},
   "outputs": [],
   "source": [
    "def html2text_bs(raw_html):\n",
    "    from bs4 import BeautifulSoup\n",
    "    \"\"\"\n",
    "    Тут производится извлечения из html текста\n",
    "    \"\"\"\n",
    "    soup = BeautifulSoup(raw_html, \"html.parser\")\n",
    "    [s.extract() for s in soup(['script', 'style'])]\n",
    "    return soup.get_text()\n",
    "\n",
    "def html2text_bs_visible(raw_html):\n",
    "    from bs4 import BeautifulSoup\n",
    "    \"\"\"\n",
    "    Тут производится извлечения из html текста, который видим пользователю\n",
    "    \"\"\"\n",
    "    soup = BeautifulSoup(raw_html, \"html.parser\")    \n",
    "    [s.extract() for s in soup(['style', 'script', '[document]', 'head', 'title'])]\n",
    "    return soup.get_text()\n",
    "\n",
    "def html2text_boilerpipe(raw_html):\n",
    "    import boilerpipe\n",
    "    \"\"\"\n",
    "    еще одна библиотека очень хорошо извлекающая именно видимый пользователю текст,\n",
    "    но она завязана на java\n",
    "    \"\"\"\n",
    "    pass"
   ]
  },
  {
   "cell_type": "markdown",
   "metadata": {},
   "source": [
    "#### Выбираем какой метод для конвертации html в текст будет основным"
   ]
  },
  {
   "cell_type": "code",
   "execution_count": 7,
   "metadata": {},
   "outputs": [],
   "source": [
    "html2text = html2text_bs"
   ]
  },
  {
   "cell_type": "markdown",
   "metadata": {},
   "source": [
    "#### Методы для токенизации текста"
   ]
  },
  {
   "cell_type": "code",
   "execution_count": 8,
   "metadata": {},
   "outputs": [],
   "source": [
    "@convert2lower\n",
    "@convert2unicode\n",
    "def easy_tokenizer(text):\n",
    "    word = unicode()\n",
    "    for symbol in text:\n",
    "        if symbol.isalnum(): word += symbol\n",
    "        elif word:\n",
    "            yield word\n",
    "            word = unicode()\n",
    "    if word: yield word\n",
    "\n",
    "PYMORPHY_CACHE = {}\n",
    "MORPH = None\n",
    "#hint, чтобы установка pymorphy2 не была бы обязательной\n",
    "def get_lemmatizer():\n",
    "    import pymorphy2\n",
    "    global MORPH\n",
    "    if MORPH is None: MORPH = pymorphy2.MorphAnalyzer()\n",
    "    return MORPH\n",
    "\n",
    "@convert2lower\n",
    "@convert2unicode\n",
    "def pymorphy_tokenizer(text):\n",
    "    global PYMORPHY_CACHE\n",
    "    for word in easy_tokenizer(text):\n",
    "        word_hash = hash(word)\n",
    "        if word_hash not in PYMORPHY_CACHE:\n",
    "            PYMORPHY_CACHE[word_hash] = get_lemmatizer().parse(word)[0].normal_form            \n",
    "        yield PYMORPHY_CACHE[word_hash]"
   ]
  },
  {
   "cell_type": "markdown",
   "metadata": {},
   "source": [
    "#### Основная функция, которая вызывается для преобразования html в список слов"
   ]
  },
  {
   "cell_type": "code",
   "execution_count": 9,
   "metadata": {},
   "outputs": [],
   "source": [
    "def html2word(raw_html, to_text=html2text, tokenizer=easy_tokenizer):\n",
    "    return tokenizer(to_text(raw_html).lower())"
   ]
  },
  {
   "cell_type": "markdown",
   "metadata": {},
   "source": [
    "#### Рассчет финальных метрик"
   ]
  },
  {
   "cell_type": "code",
   "execution_count": 10,
   "metadata": {},
   "outputs": [],
   "source": [
    "def safe_divide(a, b):\n",
    "    if a == 0: return 0.0\n",
    "    elif b == 0: return 0.0\n",
    "    else: return a/b\n",
    "\n",
    "def calculate_metrics(predictions, threshold):    \n",
    "    \"\"\"\n",
    "    Функция подсчета метрик\n",
    "    Параметры\n",
    "    predictions - ранки по документам\n",
    "    threshold  - порог для метрик\n",
    "    \"\"\"\n",
    "    true_positive = 0\n",
    "    false_positive = 0\n",
    "    true_negative = 0\n",
    "    false_negative = 0\n",
    "    for (url_id, mark, url, prediction) in predictions:        \n",
    "        mark_predict = prediction > threshold\n",
    "\n",
    "        if mark_predict:                     \n",
    "            if mark_predict == mark: true_positive += 1\n",
    "            else: false_positive += 1                    \n",
    "        else:                     \n",
    "            if  mark_predict == mark: true_negative += 1\n",
    "            else: false_negative += 1\n",
    "\n",
    "    class_prec  = safe_divide(true_positive, true_positive + false_positive)\n",
    "    class_recall = safe_divide(true_positive, true_positive + false_negative)\n",
    "        \n",
    "    class_F1 = safe_divide(2 * class_prec * class_recall, class_prec + class_recall)\n",
    "    \n",
    "    \n",
    "    not_class_prec = safe_divide(true_negative, true_negative + false_negative)\n",
    "    not_class_recall = safe_divide(true_negative, true_negative + false_positive)\n",
    "    \n",
    "    not_class_F1 = safe_divide(2 * not_class_prec * not_class_recall, not_class_prec + not_class_recall)\n",
    "    \n",
    "    return ( (class_prec, class_recall, class_F1), (not_class_prec, not_class_recall, not_class_F1) )\n",
    "\n",
    "def arange(start, stop, step):\n",
    "    cur_value = start\n",
    "    while True:\n",
    "        if cur_value > stop: break\n",
    "        yield cur_value\n",
    "        cur_value += step\n",
    "\n",
    "def plot_results(docs, min_threshold=-1, max_threshold=1, step=0.1, trace=False):\n",
    "    x = []\n",
    "    y_p = []\n",
    "    y_n = []\n",
    "    docs_predictions = classifier.predict_all(docs)\n",
    "    for threshold in arange(min_threshold, max_threshold, step):\n",
    "        r = calculate_metrics(docs_predictions, threshold)\n",
    "        x.append(threshold)\n",
    "        y_p.append(r[0])\n",
    "        y_n.append(r[1])        \n",
    "        if trace: \n",
    "            print ('threshold %s' % threshold)\n",
    "            print ('\\tclass_prec %s, class_recall %s, class_F1 %s' % r[0])\n",
    "            print ('\\tnot_class_prec %s, not_class_recall %s, not_class_F1 %s' % r[1])\n",
    "            print ('\\t\\tMacroF1Mesure %s' % ((r[0][2] + r[1][2])/2))\n",
    "    plot_stats(x, y_p, \"Class Result\")\n",
    "    plot_stats(x, y_n, \"Not class Result\")    \n",
    "\n",
    "\n",
    "def plot_stats(x, y, title):\n",
    "    plt.figure(figsize=(10, 5))\n",
    "\n",
    "    prec, = plt.plot( x, \n",
    "                     [k[0] for k in y], \"r\", label='Precision', \n",
    "                     linewidth=1)\n",
    "    accur, = plt.plot( x, \n",
    "                      [k[1] for k in y], \"b\", label='Recall',\n",
    "                      linewidth=1)\n",
    "    f1, =    plt.plot( x, \n",
    "                      [k[2] for k in y], \"g\", label='F1',\n",
    "                      linewidth=1)\n",
    "    plt.grid(True)\n",
    "    plt.legend(handles=[prec, accur, f1])\n",
    "    plt.title(title)\n",
    "    plt.show()"
   ]
  },
  {
   "cell_type": "code",
   "execution_count": 11,
   "metadata": {},
   "outputs": [
    {
     "name": "stdout",
     "output_type": "stream",
     "text": [
      "Requirement already satisfied: nltk in /home/rodion/miniconda3/envs/sphere-py37/lib/python3.7/site-packages (3.4.5)\n",
      "Requirement already satisfied: six in /home/rodion/miniconda3/envs/sphere-py37/lib/python3.7/site-packages (from nltk) (1.14.0)\n"
     ]
    }
   ],
   "source": [
    "!pip install nltk"
   ]
  },
  {
   "cell_type": "code",
   "execution_count": 12,
   "metadata": {},
   "outputs": [
    {
     "name": "stdout",
     "output_type": "stream",
     "text": [
      "Requirement already satisfied: pymorphy2 in /home/rodion/miniconda3/envs/sphere-py37/lib/python3.7/site-packages (0.8)\n",
      "Requirement already satisfied: pymorphy2-dicts<3.0,>=2.4 in /home/rodion/miniconda3/envs/sphere-py37/lib/python3.7/site-packages (from pymorphy2) (2.4.393442.3710985)\n",
      "Requirement already satisfied: dawg-python>=0.7 in /home/rodion/miniconda3/envs/sphere-py37/lib/python3.7/site-packages (from pymorphy2) (0.7.2)\n",
      "Requirement already satisfied: docopt>=0.6 in /home/rodion/miniconda3/envs/sphere-py37/lib/python3.7/site-packages (from pymorphy2) (0.6.2)\n",
      "Requirement already up-to-date: pymorphy2-dicts-ru in /home/rodion/miniconda3/envs/sphere-py37/lib/python3.7/site-packages (2.4.404381.4453942)\n",
      "Requirement already up-to-date: pymorphy2-dicts-uk in /home/rodion/miniconda3/envs/sphere-py37/lib/python3.7/site-packages (2.4.1.1.1460299261)\n"
     ]
    },
    {
     "name": "stderr",
     "output_type": "stream",
     "text": [
      "[nltk_data] Downloading package stopwords to /home/rodion/nltk_data...\n",
      "[nltk_data]   Package stopwords is already up-to-date!\n"
     ]
    },
    {
     "data": {
      "text/plain": [
       "True"
      ]
     },
     "execution_count": 12,
     "metadata": {},
     "output_type": "execute_result"
    }
   ],
   "source": [
    "#nltk.download('stopwords')\n",
    "import nltk\n",
    "from nltk.corpus import stopwords\n",
    "\n",
    "# Ставим еще софтину\n",
    "\n",
    "!pip install pymorphy2\n",
    "!pip install -U pymorphy2-dicts-ru\n",
    "import pymorphy2\n",
    "!pip install -U pymorphy2-dicts-uk\n",
    "\n",
    "nltk.download('stopwords')"
   ]
  },
  {
   "cell_type": "code",
   "execution_count": 13,
   "metadata": {},
   "outputs": [],
   "source": [
    "import numpy as np\n",
    "from bs4 import BeautifulSoup\n",
    "\n",
    "import tldextract\n",
    "import re\n",
    "    \n",
    "\n",
    "def calc_features(url, html_data, mark):\n",
    "    try:\n",
    "        if not isinstance(html_data, str): html_data = html_data.decode('utf-8')\n",
    "    except UnicodeDecodeError:\n",
    "        print('UnicodeDecodeError')\n",
    "        html_data = \"\"\n",
    "    \n",
    "    words = list(html2word(html_data))\n",
    "    \n",
    "    # feature 1\n",
    "    words_num = len(words)\n",
    "    \n",
    "    # feature 2\n",
    "    word_lens = np.array([len(word) for word in words], dtype=float)\n",
    "    if len(word_lens) == 0:\n",
    "        avg_word_len = 0\n",
    "    else:\n",
    "        avg_word_len = word_lens.mean()\n",
    "    \n",
    "    soup = BeautifulSoup(html_data, \"html.parser\")\n",
    "    title = soup.find('title')\n",
    "    # feature 3\n",
    "    if title is None:\n",
    "        title_words = ['']\n",
    "        title_words_num = 0\n",
    "    else:\n",
    "        title_words = title.get_text().split()\n",
    "        title_words_num = len(title_words)\n",
    "    \n",
    "    \n",
    "    anchor = soup.find_all('a')\n",
    "    links_num = 0\n",
    "    if anchor is None:\n",
    "        anchor_words_num = 0\n",
    "    else:\n",
    "        # feature 8\n",
    "        links_num = len(anchor)\n",
    "        anchor = np.array([len(a.text.split()) for a in anchor]).sum()\n",
    "    # feature 4\n",
    "    anchor_words_num = anchor\n",
    "    \n",
    "    # feature 5\n",
    "    if len(html_data) == 0:\n",
    "        compression_level = 0\n",
    "    else:\n",
    "        zip_data = zlib.compress(html_data.encode())\n",
    "        compression_level = float(len(zip_data)) / float(len(html_data))\n",
    "        \n",
    "    # feature 6\n",
    "    script_num = len(soup.find_all('script'))\n",
    "    \n",
    "    # feature 7\n",
    "    img_num = len(soup.find_all('img'))\n",
    "        \n",
    "    # feature 8 DOT_IN_URL\n",
    "    dots_in_url = url.count('.')\n",
    "    \n",
    "    # feature 9 URL_LEN\n",
    "    url_len = len(url)\n",
    "    \n",
    "    # feature 10 Visible_Text_Percent\n",
    "    visible_words_num = len(soup.get_text().split())\n",
    "    if words_num == 0:\n",
    "        visible_text_percent = 0\n",
    "    else:\n",
    "        visible_text_percent = float(visible_words_num) / float(words_num)\n",
    "    \n",
    "    # feature 11 slash in URL\n",
    "    slash_in_url = url.count('/')\n",
    "    \n",
    "    # feature 12 CSS\n",
    "    css_num = len(soup.find_all('link'))\n",
    "    \n",
    "    \n",
    "    ## feature 13 Meta\n",
    "    meta_num = len(soup.find_all('meta'))\n",
    "    \n",
    "    # feature 15 html in url\n",
    "    html_in_url = int(url.endswith('html'))\n",
    "    \n",
    "   \n",
    "    font_num = len(soup.find_all('font'))\n",
    "    \n",
    "    input_num = len(soup.find_all('input'))\n",
    "    noindex_num = len(soup.find_all('noindex'))\n",
    "    \n",
    "   \n",
    "    \n",
    "  \n",
    "    noscript_num = len(soup.find_all('noscript'))\n",
    "  \n",
    "    embed_num = len(soup.find_all('embed'))\n",
    "    object_num = len(soup.find_all('object'))\n",
    "\n",
    "    div_num = len(soup.find_all('div'))\n",
    "    span_num = len(soup.find_all('span'))\n",
    "    style_num = len(soup.find_all('style')) \n",
    "    form_num = len(soup.find_all('form'))\n",
    "    \n",
    "    \n",
    "    url = list(tldextract.extract(url))\n",
    "    \n",
    "    \n",
    "    return [words_num, \n",
    "            avg_word_len, \n",
    "            title_words_num, \n",
    "            anchor_words_num, \n",
    "            compression_level, \n",
    "            script_num,\n",
    "            img_num,\n",
    "            links_num, \n",
    "            dots_in_url, \n",
    "            url_len,\n",
    "            visible_text_percent,\n",
    "            slash_in_url, \n",
    "            css_num, \n",
    "            meta_num,\n",
    "            html_in_url,\n",
    "            font_num, input_num, noindex_num,\n",
    "            noscript_num, embed_num, object_num,\n",
    "            div_num, span_num, style_num, form_num,\n",
    "            url]"
   ]
  },
  {
   "cell_type": "code",
   "execution_count": 14,
   "metadata": {},
   "outputs": [
    {
     "name": "stdout",
     "output_type": "stream",
     "text": [
      "[18, 4.111111111111111, 4, 3, 0.7958579881656804, 2, 1, 2, 3, 76, 1.0, 4, 1, 2, 1, 1, 1, 1, 1, 0, 0, 0, 0, 0, 0, ['tipatiza', 'yc', 'cz']]\n"
     ]
    }
   ],
   "source": [
    "test_html_data = u'''\n",
    "<html>\n",
    "<title> Заголовок Ololo проверяем это</title>\n",
    "спам 1 2 3 the a to buy\n",
    "<a>asffdf wekg</a>\n",
    "<a>   fk </a>\n",
    "Купить машину недорого\n",
    "<script> </script>\n",
    "<script> </script>\n",
    "<link> </link>\n",
    "\n",
    "<img> </img>\n",
    "<meta http-equiv=\"Refresh\"> </meta>\n",
    "<meta> </meta>\n",
    "<font> <option> <input> <section> <idxskip> <noindex>\n",
    "<noscript> <time> <dfn>\n",
    "</html>\n",
    "'''\n",
    "test_url =  'http://tipatiza.yc.cz/kak-pornoakteri-uvelichivayut-chlen-p13/gecub-100.html'\n",
    "test_features = calc_features(test_url, test_html_data, True)\n",
    "print(test_features)"
   ]
  },
  {
   "cell_type": "code",
   "execution_count": 15,
   "metadata": {},
   "outputs": [],
   "source": [
    "from multiprocessing import Process, Queue\n",
    "from tqdm import tqdm\n",
    "\n",
    "from tqdm.notebook import tqdm_notebook\n",
    "\n",
    "DocItem = namedtuple('DocItem', ['doc_id', 'is_spam', 'url', 'features'])\n",
    "\n",
    "WORKER_NUM = 4\n",
    "\n",
    "def load_csv(input_file_name, calc_features_f):    \n",
    "    \"\"\"\n",
    "    Загружаем данные и извлекаем на лету признаки\n",
    "    Сам контент не сохраняется, чтобы уменьшить потребление памяти - чтобы\n",
    "    можно было запускать даже на ноутбуках в классе\n",
    "    \"\"\"\n",
    "    \n",
    "    with gzip.open(input_file_name) if input_file_name.endswith('gz') else open(input_file_name)  as input_file:            \n",
    "        headers = input_file.readline()\n",
    "        \n",
    "        for i, line in tqdm_notebook(enumerate(input_file)):\n",
    "            trace(i)\n",
    "            parts = line.strip().decode().split('\\t')\n",
    "            url_id = int(parts[0])                                        \n",
    "            mark = bool(int(parts[1]))                    \n",
    "            url = parts[2]\n",
    "            pageInb64 = parts[3]\n",
    "            html_data = base64.b64decode(pageInb64)\n",
    "            features = calc_features_f(url, html_data, mark)            \n",
    "            yield DocItem(url_id, mark, url, features)            \n",
    "                \n",
    "        trace(i, 1)  \n",
    "        \n",
    "def load_csv_worker(input_file_name, calc_features_f, worker_id, res_queue):    \n",
    "    with gzip.open(input_file_name) if input_file_name.endswith('gz') else open(input_file_name)  as input_file:            \n",
    "        headers = input_file.readline()\n",
    "        \n",
    "        for i, line in tqdm_notebook(enumerate(input_file)):\n",
    "            trace_worker(i, worker_id)\n",
    "            if i % WORKER_NUM != worker_id: continue\n",
    "            parts = line.strip().decode().split('\\t') # decode()!!!!!!!!!\n",
    "            url_id = int(parts[0])                                        \n",
    "            mark = bool(int(parts[1]))                    \n",
    "            url = parts[2]\n",
    "            pageInb64 = parts[3]\n",
    "            html_data = base64.b64decode(pageInb64)\n",
    "            features = calc_features_f(url, html_data, mark)            \n",
    "            res_queue.put(DocItem(url_id, mark, url, features))\n",
    "                \n",
    "        trace_worker(i, worker_id, 1)  \n",
    "    res_queue.put(None)\n",
    "        \n",
    "def load_csv_multiprocess(input_file_name, calc_features_f):\n",
    "    processes = []\n",
    "    res_queue = Queue()    \n",
    "    for i in range(WORKER_NUM):\n",
    "        process = Process(target=load_csv_worker, args=(input_file_name, calc_features_f, i, res_queue))\n",
    "        processes.append(process)\n",
    "        process.start()\n",
    "    \n",
    "    complete_workers = 0\n",
    "    while complete_workers != WORKER_NUM:\n",
    "        item = res_queue.get()\n",
    "        if item is None:\n",
    "            complete_workers += 1\n",
    "        else:\n",
    "            yield item\n",
    "        \n",
    "    for process in processes: process.join()"
   ]
  },
  {
   "cell_type": "markdown",
   "metadata": {},
   "source": [
    "** Обрабатываем входной файл **\n",
    "<br>\n",
    "Формат - поля разделенные табуляциями\n",
    "<br>\n",
    "0 - идентификатор документа\n",
    "<br>\n",
    "1 - метка класса 0 - не спам, 1 - спам\n",
    "<br>\n",
    "2 - урл документа\n",
    "<br>\n",
    "3 - документ в кодировке base64\n",
    "\n",
    "Выходной формат - массив кортежей вида\n",
    "(doc_id, is_spam, url, html_data)"
   ]
  },
  {
   "cell_type": "code",
   "execution_count": 16,
   "metadata": {
    "scrolled": false
   },
   "outputs": [
    {
     "data": {
      "application/vnd.jupyter.widget-view+json": {
       "model_id": "5cf0b85d694648359a9999dc619d3f98",
       "version_major": 2,
       "version_minor": 0
      },
      "text/plain": [
       "HBox(children=(IntProgress(value=1, bar_style='info', max=1), HTML(value='')))"
      ]
     },
     "metadata": {},
     "output_type": "display_data"
    },
    {
     "name": "stderr",
     "output_type": "stream",
     "text": [
      "23:37:11 INFO:Complete items 00000\n",
      "23:38:25 INFO:Complete items 01000\n",
      "23:39:24 INFO:Complete items 02000\n",
      "23:40:28 INFO:Complete items 03000\n"
     ]
    },
    {
     "name": "stdout",
     "output_type": "stream",
     "text": [
      "UnicodeDecodeError\n"
     ]
    },
    {
     "name": "stderr",
     "output_type": "stream",
     "text": [
      "23:41:29 INFO:Complete items 04000\n",
      "23:42:41 INFO:Complete items 05000\n",
      "23:43:48 INFO:Complete items 06000\n",
      "23:44:52 INFO:Complete items 07000\n",
      "23:44:55 INFO:Complete items 07043\n"
     ]
    },
    {
     "name": "stdout",
     "output_type": "stream",
     "text": [
      "\n",
      "CPU times: user 7min 43s, sys: 936 ms, total: 7min 44s\n",
      "Wall time: 7min 44s\n"
     ]
    }
   ],
   "source": [
    "%%time\n",
    "\n",
    "TRAIN_DATA_FILE  = 'kaggle_train_data_tab_new.csv.gz'\n",
    "# TRAIN_DATA_FILE  = 'kaggle/kaggle_train_data_tab_300.csv.gz'\n",
    "\n",
    "train_docs = list(load_csv(TRAIN_DATA_FILE, calc_features))"
   ]
  },
  {
   "cell_type": "code",
   "execution_count": 17,
   "metadata": {},
   "outputs": [
    {
     "data": {
      "text/plain": [
       "26"
      ]
     },
     "execution_count": 17,
     "metadata": {},
     "output_type": "execute_result"
    }
   ],
   "source": [
    "len(train_docs[2].features)\n"
   ]
  },
  {
   "cell_type": "code",
   "execution_count": 18,
   "metadata": {},
   "outputs": [
    {
     "data": {
      "image/png": "[encoded data removed]",
      "text/plain": [
       "<Figure size 1440x1080 with 25 Axes>"
      ]
     },
     "metadata": {
      "needs_background": "light"
     },
     "output_type": "display_data"
    }
   ],
   "source": [
    "labels = ['NumWords', 'AvgWordLen', 'NumWordsTitle', 'AnchorWordsNum', 'CompressionLvl', \n",
    "          'ScriptNum', 'ImgNum', 'LinksNum', 'Dots_In_Url', 'UrlLen',\n",
    "          'VisibleTextPercent', 'SlashInUrl', 'CssNum', 'MetaNum', 'Html_in_url',\n",
    "          'font_num', 'input_num', 'noindex_num', 'noscript_num', 'embed_num', \n",
    "          'object_num', 'div_num', 'span_num', 'style_num', 'form_num']\n",
    "plt.figure(figsize=(20, 15))\n",
    "\n",
    "for i in range(25):\n",
    "    is_spam_data = [doc.features[i] for doc in train_docs if doc[1] == True]\n",
    "    not_spam_data = [doc.features[i] for doc in train_docs if doc[1] == False]\n",
    "    bins = range(0,30,1)\n",
    "    if labels[i] == 'NumWords':\n",
    "        bins = range(0,3000,10)\n",
    "    elif labels[i] == 'AvgWordLen' or labels[i] == 'CompressionLvl':\n",
    "        bins = 100\n",
    "    plt.subplot(5, 5, i+1)\n",
    "    \n",
    "    plt.hist(is_spam_data, bins=bins, color='red', density=True, alpha=0.7, label='spam')\n",
    "    plt.hist(not_spam_data, bins=bins, color='blue', density=True, alpha=0.7, label='not_spam')\n",
    "    plt.title('{}'.format(labels[i]))"
   ]
  },
  {
   "cell_type": "code",
   "execution_count": 74,
   "metadata": {},
   "outputs": [
    {
     "data": {
      "text/plain": [
       "array([-9219733223042265364, False,\n",
       "       'http://www.ferio.ru/c_1-acura-legend.html',\n",
       "       list([1203, 5.13383208645054, 6, 288, 0.2287361719891463, 14, 5, 138, 3, 41, 0.9783873649210307, 3, 3, 9, 1, 67, 0, 6, 2, 0, 0, 18, 1, 0, 0, ['www', 'ferio', 'ru']])],\n",
       "      dtype=object)"
      ]
     },
     "execution_count": 74,
     "metadata": {},
     "output_type": "execute_result"
    }
   ],
   "source": [
    "###########(Выше показано, как были получены признаки + урлы)\n",
    "###########(Сейчас загружаю из файла, т.к. долго считается)\n",
    "train_docs = np.load('train_docs_98_3.npz', allow_pickle=True)['arr_0']\n",
    "train_docs[2]"
   ]
  },
  {
   "cell_type": "code",
   "execution_count": 84,
   "metadata": {},
   "outputs": [
    {
     "data": {
      "text/plain": [
       "DocItem(doc_id=-9219733223042265364, is_spam=False, url='http://www.ferio.ru/c_1-acura-legend.html', features=[1203, 5.13383208645054, 6, 288, 0.2287361719891463, 14, 5, 138, 3, 41, 0.9783873649210307, 3, 3, 9, 1, 67, 0, 6, 2, 0, 0, 18, 1, 0, 0, ['www', 'ferio', 'ru']])"
      ]
     },
     "execution_count": 84,
     "metadata": {},
     "output_type": "execute_result"
    }
   ],
   "source": [
    "train_docs = [DocItem._make(doc) for doc in train_docs]\n",
    "train_docs[2]"
   ]
  },
  {
   "cell_type": "code",
   "execution_count": 19,
   "metadata": {},
   "outputs": [
    {
     "name": "stderr",
     "output_type": "stream",
     "text": [
      "/home/rodion/miniconda3/envs/sphere-py37/lib/python3.7/site-packages/sklearn/linear_model/logistic.py:432: FutureWarning: Default solver will be changed to 'lbfgs' in 0.22. Specify a solver to silence this warning.\n",
      "  FutureWarning)\n"
     ]
    },
    {
     "data": {
      "text/plain": [
       "0.9637987733079555"
      ]
     },
     "execution_count": 19,
     "metadata": {},
     "output_type": "execute_result"
    }
   ],
   "source": [
    "######### Валидация по классификатору URL\n",
    "from sklearn.feature_extraction.text import TfidfVectorizer\n",
    "from sklearn.metrics import f1_score\n",
    "from sklearn.linear_model import LogisticRegression\n",
    "\n",
    "url_tokens = [doc.features[-1] for doc in train_docs]\n",
    "train_targets = [doc.is_spam for doc in train_docs]\n",
    "\n",
    "def dummy_fun(doc):\n",
    "    return doc\n",
    "\n",
    "vectorizer_url = TfidfVectorizer(analyzer='word', \n",
    "                             tokenizer=dummy_fun,\n",
    "                             preprocessor=dummy_fun,\n",
    "                             token_pattern=None, ngram_range=(1,2))\n",
    "\n",
    "\n",
    "train_url_vectorized = vectorizer_url.fit_transform(url_tokens)\n",
    "\n",
    "url_classifier = LogisticRegression(C=1000)\n",
    "\n",
    "from sklearn.model_selection import cross_validate\n",
    "np.mean(cross_validate(url_classifier, train_url_vectorized, train_targets, cv=5)['test_score'])"
   ]
  },
  {
   "cell_type": "code",
   "execution_count": 20,
   "metadata": {},
   "outputs": [
    {
     "data": {
      "text/plain": [
       "LogisticRegression(C=1000, class_weight=None, dual=False, fit_intercept=True,\n",
       "                   intercept_scaling=1, l1_ratio=None, max_iter=100,\n",
       "                   multi_class='warn', n_jobs=None, penalty='l2',\n",
       "                   random_state=None, solver='warn', tol=0.0001, verbose=0,\n",
       "                   warm_start=False)"
      ]
     },
     "execution_count": 20,
     "metadata": {},
     "output_type": "execute_result"
    }
   ],
   "source": [
    "##### Обучение классификатора URL\n",
    "url_classifier.fit(train_url_vectorized, train_targets)"
   ]
  },
  {
   "cell_type": "code",
   "execution_count": 21,
   "metadata": {},
   "outputs": [],
   "source": [
    "##### Немного статистики\n",
    "from collections import Counter\n",
    "\n",
    "aggregate_counter = Counter()\n",
    "for tok, doc in zip(url_tokens, train_docs):\n",
    "    if doc[1] == True:\n",
    "        aggregate_counter += Counter(tok)\n",
    "\n",
    "common_words = [word[0] for word in aggregate_counter.most_common(15)]\n",
    "common_words_counts = [word[1] for word in aggregate_counter.most_common(15)]"
   ]
  },
  {
   "cell_type": "code",
   "execution_count": 22,
   "metadata": {},
   "outputs": [
    {
     "data": {
      "image/png": "[encoded data removed]",
      "text/plain": [
       "<Figure size 1296x432 with 1 Axes>"
      ]
     },
     "metadata": {
      "needs_background": "light"
     },
     "output_type": "display_data"
    }
   ],
   "source": [
    "import matplotlib.pyplot as plt\n",
    "import seaborn as sns\n",
    "\n",
    "def barplot(words, words_counts, title):\n",
    "    fig = plt.figure(figsize=(18,6))\n",
    "    bar_plot = sns.barplot(x=words, y=words_counts)\n",
    "    for item in bar_plot.get_xticklabels():\n",
    "        item.set_rotation(90)\n",
    "    plt.title(title)\n",
    "    plt.show()\n",
    "barplot(words=common_words, words_counts=common_words_counts, title='Most Frequent Words used in URL')"
   ]
  },
  {
   "cell_type": "markdown",
   "metadata": {},
   "source": [
    "** Классификатор: **\n",
    "Нужно реализовать"
   ]
  },
  {
   "cell_type": "code",
   "execution_count": 23,
   "metadata": {},
   "outputs": [],
   "source": [
    "from sklearn.ensemble import ExtraTreesClassifier\n",
    "from sklearn.tree import DecisionTreeClassifier\n",
    "from sklearn.metrics import accuracy_score, f1_score\n",
    "from sklearn.ensemble import RandomForestClassifier\n",
    "from sklearn.neighbors import KNeighborsClassifier\n",
    "from sklearn.linear_model import LogisticRegression\n",
    "from sklearn.ensemble import ExtraTreesRegressor\n",
    "from sklearn.svm import OneClassSVM\n",
    "\n",
    "import xgboost as xgb\n",
    "from xgboost import XGBClassifier\n",
    "class Classifier:\n",
    "    def __init__(self):\n",
    "        self.clf = XGBClassifier()\n",
    "        \n",
    "    def predict(self, doc):\n",
    "        return self.clf.predict_proba(np.array(doc.features[:-1]).reshape(1, -1))                 \n",
    "    \n",
    "    def predict_all(self, docs):\n",
    "        res = []\n",
    "        for doc_num, doc in enumerate(docs):\n",
    "            trace(doc_num)\n",
    "            prediction = self.predict(doc)            \n",
    "            res.append( (doc.doc_id, doc.is_spam, doc.url, prediction) )\n",
    "        return res\n",
    "    \n",
    "    def train(self, docs):                \n",
    "        features = np.array([doc.features[:-1] for doc in docs]).astype(\"float32\")\n",
    "        targets =  np.array([doc.is_spam for doc in docs]).astype(\"float32\")\n",
    "        features = np.nan_to_num(features)\n",
    "        targets = np.nan_to_num(targets)\n",
    "\n",
    "        self.clf = self.clf.fit(features, targets)\n",
    "\n",
    "    def cross_validation(self, docs):\n",
    "        from sklearn.model_selection import StratifiedKFold\n",
    "        features = np.array([doc.features[:-1] for doc in docs]).astype(\"float32\")\n",
    "        targets =  np.array([doc.is_spam for doc in docs]).astype(\"float32\")\n",
    "        \n",
    "        \n",
    "        skf = StratifiedKFold(n_splits=5)\n",
    "        scores = []\n",
    "        for train_index, test_index in skf.split(features, targets):\n",
    "            X_tr, X_tt = features[train_index], features[test_index]\n",
    "            y_tr, y_tt = targets[train_index], targets[test_index]\n",
    "            self.clf.fit(X_tr, y_tr)\n",
    "            y_pred = self.clf.predict(X_tt)\n",
    "            scores.append(f1_score(y_tt, y_pred))\n",
    "        return scores\n",
    "         "
   ]
  },
  {
   "cell_type": "code",
   "execution_count": 24,
   "metadata": {},
   "outputs": [
    {
     "data": {
      "text/plain": [
       "0.9714788402714529"
      ]
     },
     "execution_count": 24,
     "metadata": {},
     "output_type": "execute_result"
    }
   ],
   "source": [
    "##### Валидация основного классификатора\n",
    "classifier = Classifier()\n",
    "np.mean(classifier.cross_validation(train_docs))"
   ]
  },
  {
   "cell_type": "code",
   "execution_count": 25,
   "metadata": {
    "scrolled": true
   },
   "outputs": [],
   "source": [
    "###### Обучение основного классификатора\n",
    "classifier = Classifier()\n",
    "classifier.train(train_docs)"
   ]
  },
  {
   "cell_type": "code",
   "execution_count": null,
   "metadata": {},
   "outputs": [],
   "source": [
    "###### Так парсились тексты\n",
    "import numpy as np\n",
    "from bs4 import BeautifulSoup\n",
    "\n",
    "def calc_texts(url, html_data, mark):\n",
    "    try:\n",
    "        if not isinstance(html_data, str): html_data = html_data.decode('utf-8')\n",
    "    except UnicodeDecodeError:\n",
    "        print('UnicodeDecodeError')\n",
    "        html_data = \"\"\n",
    "    soup = BeautifulSoup(html_data, \"html.parser\")\n",
    "    words = pymorphy_tokenizer(soup.get_text())\n",
    "    words = [word for word in words if word not in stopwords.words('russian') and word not in stopwords.words('english')]\n",
    "    return words\n",
    "\n",
    "\n",
    "TRAIN_DATA_FILE  = 'kaggle_train_data_tab_new.csv.gz'\n",
    "\n",
    "train_texts = list(load_csv(TRAIN_DATA_FILE, extract_text))"
   ]
  },
  {
   "cell_type": "code",
   "execution_count": 26,
   "metadata": {},
   "outputs": [
    {
     "data": {
      "text/plain": [
       "['сотовый', 'телефон', 'купить', 'цена', 'top']"
      ]
     },
     "execution_count": 26,
     "metadata": {},
     "output_type": "execute_result"
    }
   ],
   "source": [
    "train_texts = np.load('train_texts.npz', allow_pickle=True)['arr_0']\n",
    "train_texts[20][:5]"
   ]
  },
  {
   "cell_type": "code",
   "execution_count": 27,
   "metadata": {},
   "outputs": [
    {
     "name": "stderr",
     "output_type": "stream",
     "text": [
      "/home/rodion/miniconda3/envs/sphere-py37/lib/python3.7/site-packages/sklearn/model_selection/_split.py:1978: FutureWarning: The default value of cv will change from 3 to 5 in version 0.22. Specify it explicitly to silence this warning.\n",
      "  warnings.warn(CV_WARNING, FutureWarning)\n",
      "/home/rodion/miniconda3/envs/sphere-py37/lib/python3.7/site-packages/sklearn/linear_model/logistic.py:432: FutureWarning: Default solver will be changed to 'lbfgs' in 0.22. Specify a solver to silence this warning.\n",
      "  FutureWarning)\n"
     ]
    },
    {
     "data": {
      "text/plain": [
       "0.9704715617153861"
      ]
     },
     "execution_count": 27,
     "metadata": {},
     "output_type": "execute_result"
    }
   ],
   "source": [
    "##### Так обрабатывались тексты\n",
    "##### Валидация по классификатору текстов\n",
    "def dummy_fun(tok):\n",
    "    return tok\n",
    "from sklearn.feature_extraction.text import TfidfVectorizer\n",
    "from sklearn.linear_model import LogisticRegression\n",
    "from sklearn.model_selection import cross_validate\n",
    "vectorizer_texts = TfidfVectorizer(analyzer='word', \n",
    "                             tokenizer=dummy_fun,\n",
    "                             preprocessor=dummy_fun,\n",
    "                             token_pattern=None, ngram_range=(1,2))\n",
    "\n",
    "text_classifier = LogisticRegression(C=20)\n",
    "train_text_vectorized = vectorizer_texts.fit_transform(train_texts)\n",
    "np.mean(cross_validate(text_classifier, train_text_vectorized, train_targets)['test_score'])"
   ]
  },
  {
   "cell_type": "code",
   "execution_count": 28,
   "metadata": {},
   "outputs": [
    {
     "data": {
      "text/plain": [
       "LogisticRegression(C=20, class_weight=None, dual=False, fit_intercept=True,\n",
       "                   intercept_scaling=1, l1_ratio=None, max_iter=100,\n",
       "                   multi_class='warn', n_jobs=None, penalty='l2',\n",
       "                   random_state=None, solver='warn', tol=0.0001, verbose=0,\n",
       "                   warm_start=False)"
      ]
     },
     "execution_count": 28,
     "metadata": {},
     "output_type": "execute_result"
    }
   ],
   "source": [
    "##### Обучение классификатора текстов\n",
    "text_classifier.fit(train_text_vectorized, train_targets)"
   ]
  },
  {
   "cell_type": "code",
   "execution_count": 29,
   "metadata": {},
   "outputs": [
    {
     "name": "stderr",
     "output_type": "stream",
     "text": [
      "23:49:49 INFO:Complete items 00000\n",
      "23:49:49 INFO:Complete items 01000\n",
      "23:49:49 INFO:Complete items 02000\n",
      "23:49:49 INFO:Complete items 03000\n",
      "23:49:50 INFO:Complete items 04000\n",
      "23:49:50 INFO:Complete items 05000\n",
      "23:49:50 INFO:Complete items 06000\n",
      "23:49:50 INFO:Complete items 07000\n"
     ]
    },
    {
     "data": {
      "text/plain": [
       "1.0"
      ]
     },
     "execution_count": 29,
     "metadata": {},
     "output_type": "execute_result"
    }
   ],
   "source": [
    "####### Вот так и будет выглядеть финальная модель\n",
    "train_xgb_pred = np.array([doc[3][0][1] for doc in classifier.predict_all(train_docs)])\n",
    "train_url_pred = url_classifier.predict_proba(train_url_vectorized)[:, 1]\n",
    "train_text_pred = text_classifier.predict_proba(train_text_vectorized)[:, 1]\n",
    "\n",
    "final_train_pred = np.array((train_xgb_pred + train_url_pred + train_text_pred) / 3 >= 0.5, dtype=int)\n",
    "f1_score(final_train_pred, train_targets)"
   ]
  },
  {
   "cell_type": "code",
   "execution_count": 55,
   "metadata": {},
   "outputs": [
    {
     "data": {
      "application/vnd.jupyter.widget-view+json": {
       "model_id": "e77f1047d9eb4af2adef7dad5324c5e7",
       "version_major": 2,
       "version_minor": 0
      },
      "text/plain": [
       "HBox(children=(IntProgress(value=1, bar_style='info', max=1), HTML(value='')))"
      ]
     },
     "metadata": {},
     "output_type": "display_data"
    },
    {
     "name": "stderr",
     "output_type": "stream",
     "text": [
      "22:26:57 INFO:Complete items 00000\n",
      "22:29:11 INFO:Complete items 01000\n",
      "22:31:18 INFO:Complete items 02000\n",
      "22:32:32 INFO:Complete items 03000\n",
      "22:33:39 INFO:Complete items 04000\n",
      "22:34:42 INFO:Complete items 05000\n",
      "22:36:48 INFO:Complete items 06000\n",
      "22:37:56 INFO:Complete items 07000\n",
      "22:39:04 INFO:Complete items 08000\n",
      "22:40:17 INFO:Complete items 09000\n",
      "22:42:40 INFO:Complete items 10000\n",
      "22:43:50 INFO:Complete items 11000\n",
      "22:45:07 INFO:Complete items 12000\n",
      "22:46:13 INFO:Complete items 13000\n",
      "22:47:27 INFO:Complete items 14000\n",
      "22:48:40 INFO:Complete items 15000\n",
      "22:50:02 INFO:Complete items 16000\n",
      "22:50:05 INFO:Complete items 16038\n"
     ]
    },
    {
     "name": "stdout",
     "output_type": "stream",
     "text": [
      "\n",
      "CPU times: user 23min 8s, sys: 1.58 s, total: 23min 9s\n",
      "Wall time: 23min 8s\n"
     ]
    }
   ],
   "source": [
    "%%time\n",
    "TEST_DATA_FILE  = 'kaggle_test_data_tab_new.csv.gz'\n",
    "# TEST_DATA_FILE  = 'kaggle/kaggle_train_data_tab_300.csv.gz'\n",
    "\n",
    "test_docs = list(load_csv(TEST_DATA_FILE, calc_features))\n"
   ]
  },
  {
   "cell_type": "code",
   "execution_count": 30,
   "metadata": {},
   "outputs": [
    {
     "data": {
      "text/plain": [
       "DocItem(doc_id=-9216634615606576667, is_spam=True, url='http://petropavl.kz/whouse/autor/autor4.shtml', features=[241, 5.941908713692946, 13, 16, 0.37169983092729875, 14, 20, 21, 2, 45, 1.7095435684647302, 5, 3, 4, 1, 0, 5, 0, 1, 0, 0, 20, 0, 1, 1, ['', 'petropavl', 'kz']])"
      ]
     },
     "execution_count": 30,
     "metadata": {},
     "output_type": "execute_result"
    }
   ],
   "source": [
    "#### Сверху показано, как считалось\n",
    "#### Сейчас просто загружаем предпосчитанное\n",
    "test_docs = np.load('test_docs_98_3.npz', allow_pickle=True)['arr_0']\n",
    "test_docs = [DocItem._make(doc) for doc in test_docs]\n",
    "test_docs[2]"
   ]
  },
  {
   "cell_type": "code",
   "execution_count": 31,
   "metadata": {},
   "outputs": [
    {
     "name": "stderr",
     "output_type": "stream",
     "text": [
      "23:49:59 INFO:Complete items 00000\n",
      "23:50:00 INFO:Complete items 01000\n",
      "23:50:00 INFO:Complete items 02000\n",
      "23:50:00 INFO:Complete items 03000\n",
      "23:50:00 INFO:Complete items 04000\n",
      "23:50:01 INFO:Complete items 05000\n",
      "23:50:01 INFO:Complete items 06000\n",
      "23:50:01 INFO:Complete items 07000\n",
      "23:50:01 INFO:Complete items 08000\n",
      "23:50:02 INFO:Complete items 09000\n",
      "23:50:02 INFO:Complete items 10000\n",
      "23:50:02 INFO:Complete items 11000\n",
      "23:50:02 INFO:Complete items 12000\n",
      "23:50:02 INFO:Complete items 13000\n",
      "23:50:03 INFO:Complete items 14000\n",
      "23:50:03 INFO:Complete items 15000\n",
      "23:50:03 INFO:Complete items 16000\n"
     ]
    },
    {
     "data": {
      "text/plain": [
       "(16039,)"
      ]
     },
     "execution_count": 31,
     "metadata": {},
     "output_type": "execute_result"
    }
   ],
   "source": [
    "###### Предсказание основного классификатора\n",
    "xgb_test_predictions = np.array([doc[3][0][1] for doc in classifier.predict_all(test_docs)])\n",
    "xgb_test_predictions.shape"
   ]
  },
  {
   "cell_type": "code",
   "execution_count": 32,
   "metadata": {},
   "outputs": [
    {
     "data": {
      "text/plain": [
       "<16039x15851 sparse matrix of type '<class 'numpy.float64'>'\n",
       "\twith 39934 stored elements in Compressed Sparse Row format>"
      ]
     },
     "execution_count": 32,
     "metadata": {},
     "output_type": "execute_result"
    }
   ],
   "source": [
    "url_test_tokens = [doc.features[-1] for doc in test_docs]\n",
    "\n",
    "test_url_vectorized = vectorizer_url.transform(url_test_tokens)\n",
    "test_url_vectorized"
   ]
  },
  {
   "cell_type": "code",
   "execution_count": 33,
   "metadata": {},
   "outputs": [
    {
     "data": {
      "text/plain": [
       "(16039,)"
      ]
     },
     "execution_count": 33,
     "metadata": {},
     "output_type": "execute_result"
    }
   ],
   "source": [
    "###### Предсказание классификатора URL\n",
    "url_test_predictions = url_classifier.predict_proba(test_url_vectorized)[:, 1]\n",
    "url_test_predictions.shape"
   ]
  },
  {
   "cell_type": "code",
   "execution_count": null,
   "metadata": {},
   "outputs": [],
   "source": [
    "##### Так парсились тексты\n",
    "TEST_DATA_FILE  = 'kaggle_test_data_tab_new.csv.gz'\n",
    "\n",
    "test_texts = list(load_csv(TEST_DATA_FILE, calc_texts))\n"
   ]
  },
  {
   "cell_type": "code",
   "execution_count": 34,
   "metadata": {},
   "outputs": [
    {
     "data": {
      "text/plain": [
       "<16039x4894711 sparse matrix of type '<class 'numpy.float64'>'\n",
       "\twith 18287248 stored elements in Compressed Sparse Row format>"
      ]
     },
     "execution_count": 34,
     "metadata": {},
     "output_type": "execute_result"
    }
   ],
   "source": [
    "test_texts = np.load('test_texts.npz', allow_pickle=True)['arr_0']\n",
    "test_texts_vectorized = vectorizer_texts.transform(test_texts)\n",
    "test_texts_vectorized"
   ]
  },
  {
   "cell_type": "code",
   "execution_count": 35,
   "metadata": {},
   "outputs": [
    {
     "data": {
      "text/plain": [
       "(16039,)"
      ]
     },
     "execution_count": 35,
     "metadata": {},
     "output_type": "execute_result"
    }
   ],
   "source": [
    "###### Предсказание классификатора текстов\n",
    "text_test_predictions = text_classifier.predict_proba(test_texts_vectorized)[:, 1]\n",
    "text_test_predictions.shape"
   ]
  },
  {
   "cell_type": "code",
   "execution_count": 36,
   "metadata": {},
   "outputs": [
    {
     "data": {
      "text/plain": [
       "(16039,)"
      ]
     },
     "execution_count": 36,
     "metadata": {},
     "output_type": "execute_result"
    }
   ],
   "source": [
    "############### Эталонное предсказание классисфикатора текстов\n",
    "text_test_predictions = np.load('TEXT_PREDICTION2.npz', allow_pickle=True)['arr_0'][:, 1]\n",
    "text_test_predictions.shape\n",
    "###############"
   ]
  },
  {
   "cell_type": "code",
   "execution_count": 37,
   "metadata": {},
   "outputs": [
    {
     "data": {
      "text/plain": [
       "(array([0, 1]), array([7982, 8057]))"
      ]
     },
     "execution_count": 37,
     "metadata": {},
     "output_type": "execute_result"
    }
   ],
   "source": [
    "final_test_predictions = np.array((xgb_test_predictions +\\\n",
    "                                   url_test_predictions +\\\n",
    "                                   text_test_predictions) / 3 >= 0.5, dtype=int)\n",
    "np.unique(final_test_predictions, return_counts=True)"
   ]
  },
  {
   "cell_type": "code",
   "execution_count": 39,
   "metadata": {},
   "outputs": [],
   "source": [
    "import pandas as pd\n",
    "doc_ids = [doc[0] for doc in test_docs]\n",
    "subm = {'Id': doc_ids, 'Prediction': final_test_predictions}\n",
    "\n",
    "submission_df = pd.DataFrame(subm, columns=['Id', 'Prediction'])\n",
    "submission_df.to_csv('qqqq_subm_urls+text+xgb+meta_tag_feature+endswithhtml+new_tag_features3_more_than_1dot5.csv', index=None)"
   ]
  },
  {
   "cell_type": "markdown",
   "metadata": {},
   "source": [
    "###### Далее просто песочница, разные идеи\n"
   ]
  },
  {
   "cell_type": "code",
   "execution_count": 116,
   "metadata": {},
   "outputs": [
    {
     "data": {
      "text/plain": [
       "16039"
      ]
     },
     "execution_count": 116,
     "metadata": {},
     "output_type": "execute_result"
    }
   ],
   "source": [
    "# (array([0, 1]), array([7873, 8166]))\n",
    "# (array([0, 1]), array([7901, 8138])) # 98_233\n",
    "# (array([0, 1]), array([7892, 8147])) # 97_195\n",
    "# (array([0, 1]), array([7900, 8139])) # 98_145\n",
    "# 7945 # 98_671\n"
   ]
  },
  {
   "cell_type": "code",
   "execution_count": 55,
   "metadata": {},
   "outputs": [],
   "source": [
    "import pickle\n",
    "pickle.dump(text_classifier ,open('text_classifier.sav', 'wb'))"
   ]
  },
  {
   "cell_type": "code",
   "execution_count": 60,
   "metadata": {},
   "outputs": [
    {
     "data": {
      "text/plain": [
       "LogisticRegression(C=1.0, class_weight=None, dual=False, fit_intercept=True,\n",
       "                   intercept_scaling=1, l1_ratio=None, max_iter=100,\n",
       "                   multi_class='warn', n_jobs=None, penalty='l2',\n",
       "                   random_state=None, solver='warn', tol=0.0001, verbose=0,\n",
       "                   warm_start=False)"
      ]
     },
     "execution_count": 60,
     "metadata": {},
     "output_type": "execute_result"
    }
   ],
   "source": [
    "loaded_model = pickle.load(open('text_classifier.sav', 'rb'))\n",
    "loaded_model"
   ]
  },
  {
   "cell_type": "code",
   "execution_count": 56,
   "metadata": {},
   "outputs": [],
   "source": [
    "\n",
    "pickle.dump(url_classifier ,open('url_classifier.sav', 'wb'))"
   ]
  },
  {
   "cell_type": "code",
   "execution_count": 57,
   "metadata": {},
   "outputs": [],
   "source": [
    "\n",
    "pickle.dump(classifier ,open('xgb_classifier.sav', 'wb'))"
   ]
  },
  {
   "cell_type": "code",
   "execution_count": 53,
   "metadata": {},
   "outputs": [],
   "source": [
    "# ends_with_html: 0.97944 --> 0.98233"
   ]
  },
  {
   "cell_type": "code",
   "execution_count": 58,
   "metadata": {},
   "outputs": [],
   "source": [
    "np.savez('train_docs_98_2.npz', train_docs)\n",
    "np.savez('test_docs_98_2.npz', test_docs)"
   ]
  },
  {
   "cell_type": "markdown",
   "metadata": {},
   "source": [
    "### В поисках новых идей посмотрим распределение тегов"
   ]
  },
  {
   "cell_type": "code",
   "execution_count": 89,
   "metadata": {},
   "outputs": [],
   "source": [
    "import numpy as np\n",
    "from bs4 import BeautifulSoup\n",
    "\n",
    "import tldextract\n",
    "import re\n",
    "from collections import defaultdict\n",
    "\n",
    "spam_tags = defaultdict(int)\n",
    "normal_tags = defaultdict(int)\n",
    "def calc_tags(url, html_data, mark):\n",
    "    try:\n",
    "        if not isinstance(html_data, str): html_data = html_data.decode('utf-8')\n",
    "    except UnicodeDecodeError:\n",
    "        print('UnicodeDecodeError')\n",
    "        html_data = \"\"\n",
    "    \n",
    "    \n",
    "    soup = BeautifulSoup(html_data, \"html.parser\")\n",
    "    \n",
    "    if mark == True:\n",
    "        for tag in soup.find_all():\n",
    "            spam_tags[tag.name] += 1\n",
    "    else:\n",
    "        for tag in soup.find_all():\n",
    "            normal_tags[tag.name] += 1\n",
    "    return"
   ]
  },
  {
   "cell_type": "code",
   "execution_count": 90,
   "metadata": {},
   "outputs": [],
   "source": [
    "def load_csv_small(input_file_name, calc_features_f):    \n",
    "    \"\"\"\n",
    "    Загружаем данные и извлекаем на лету признаки\n",
    "    Сам контент не сохраняется, чтобы уменьшить потребление памяти - чтобы\n",
    "    можно было запускать даже на ноутбуках в классе\n",
    "    \"\"\"\n",
    "    \n",
    "    with gzip.open(input_file_name) if input_file_name.endswith('gz') else open(input_file_name)  as input_file:            \n",
    "        headers = input_file.readline()\n",
    "        \n",
    "        for i, line in tqdm_notebook(enumerate(input_file)):\n",
    "            trace(i)\n",
    "            parts = line.strip().decode().split('\\t')\n",
    "            url_id = int(parts[0])                                        \n",
    "            mark = bool(int(parts[1]))                    \n",
    "            url = parts[2]\n",
    "            pageInb64 = parts[3]\n",
    "            html_data = base64.b64decode(pageInb64)\n",
    "            features = calc_features_f(url, html_data, mark)            \n",
    "            yield DocItem(url_id, mark, url, features)            \n",
    "                \n",
    "        trace(i, 1)  \n",
    "        "
   ]
  },
  {
   "cell_type": "code",
   "execution_count": 91,
   "metadata": {},
   "outputs": [
    {
     "data": {
      "application/vnd.jupyter.widget-view+json": {
       "model_id": "4cf16335eb7e41ce963e057cae4862ee",
       "version_major": 2,
       "version_minor": 0
      },
      "text/plain": [
       "HBox(children=(IntProgress(value=1, bar_style='info', max=1), HTML(value='')))"
      ]
     },
     "metadata": {},
     "output_type": "display_data"
    },
    {
     "name": "stderr",
     "output_type": "stream",
     "text": [
      "23:39:54 INFO:Complete items 00000\n",
      "23:40:22 INFO:Complete items 01000\n",
      "23:40:47 INFO:Complete items 02000\n",
      "23:41:16 INFO:Complete items 03000\n"
     ]
    },
    {
     "name": "stdout",
     "output_type": "stream",
     "text": [
      "UnicodeDecodeError\n"
     ]
    },
    {
     "name": "stderr",
     "output_type": "stream",
     "text": [
      "23:41:43 INFO:Complete items 04000\n",
      "23:42:16 INFO:Complete items 05000\n",
      "23:42:44 INFO:Complete items 06000\n",
      "23:43:10 INFO:Complete items 07000\n",
      "23:43:11 INFO:Complete items 07043\n"
     ]
    },
    {
     "name": "stdout",
     "output_type": "stream",
     "text": [
      "\n",
      "CPU times: user 3min 16s, sys: 416 ms, total: 3min 17s\n",
      "Wall time: 3min 17s\n"
     ]
    }
   ],
   "source": [
    "%%time\n",
    "\n",
    "TRAIN_DATA_FILE  = 'kaggle_train_data_tab_new.csv.gz'\n",
    "# TRAIN_DATA_FILE  = 'kaggle/kaggle_train_data_tab_300.csv.gz'\n",
    "\n",
    "train_tags = list(load_csv_small(TRAIN_DATA_FILE, calc_tags))"
   ]
  },
  {
   "cell_type": "code",
   "execution_count": 82,
   "metadata": {},
   "outputs": [
    {
     "data": {
      "text/plain": [
       "7044"
      ]
     },
     "execution_count": 82,
     "metadata": {},
     "output_type": "execute_result"
    }
   ],
   "source": [
    "train_targets_small = [doc.is_spam for doc in train_docs]\n",
    "len(train_targets_small)"
   ]
  },
  {
   "cell_type": "code",
   "execution_count": 83,
   "metadata": {},
   "outputs": [
    {
     "data": {
      "text/plain": [
       "(array([False,  True]), array([2935, 4109]))"
      ]
     },
     "execution_count": 83,
     "metadata": {},
     "output_type": "execute_result"
    }
   ],
   "source": [
    "np.unique(train_targets, return_counts=True)"
   ]
  },
  {
   "cell_type": "code",
   "execution_count": 84,
   "metadata": {},
   "outputs": [
    {
     "data": {
      "text/plain": [
       "<BarContainer object of 20 artists>"
      ]
     },
     "execution_count": 84,
     "metadata": {},
     "output_type": "execute_result"
    },
    {
     "data": {
      "image/png": "[encoded data removed]",
      "text/plain": [
       "<Figure size 432x288 with 1 Axes>"
      ]
     },
     "metadata": {
      "needs_background": "light"
     },
     "output_type": "display_data"
    }
   ],
   "source": [
    "plt.barh(*zip(*sorted(spam_tags.items(), key=lambda x: x[1])[-20:]))"
   ]
  },
  {
   "cell_type": "code",
   "execution_count": 241,
   "metadata": {},
   "outputs": [
    {
     "data": {
      "text/plain": [
       "[('link', 8116, 13318),\n",
       " ('sub', 0, 517),\n",
       " ('td', 128233, 291635),\n",
       " ('font', 10890, 40723),\n",
       " ('form', 3941, 6457),\n",
       " ('p', 53232, 89014),\n",
       " ('script', 16525, 52495),\n",
       " ('u', 907, 3410),\n",
       " ('blockquote', 348, 1306),\n",
       " ('fieldset', 671, 548),\n",
       " ('html', 4044, 2971),\n",
       " ('table', 32878, 50267),\n",
       " ('tbody', 12213, 3893),\n",
       " ('iframe', 743, 1485),\n",
       " ('sup', 105, 1892),\n",
       " ('b', 35889, 61417),\n",
       " ('dt', 937, 1276),\n",
       " ('option', 5281, 47586),\n",
       " ('select', 261, 1608),\n",
       " ('em', 6985, 3121),\n",
       " ('nobr', 488, 4008),\n",
       " ('param', 797, 4639),\n",
       " ('img', 49243, 132717),\n",
       " ('button', 18, 1014),\n",
       " ('section', 338, 22),\n",
       " ('li', 77514, 104531),\n",
       " ('optgroup', 0, 209),\n",
       " ('spacer', 434, 781),\n",
       " ('br', 197234, 238804),\n",
       " ('base', 256, 375),\n",
       " ('th', 2739, 3912),\n",
       " ('small', 2103, 3882),\n",
       " ('body', 4147, 3050),\n",
       " ('tr', 76288, 139274),\n",
       " ('o:p', 630, 2681),\n",
       " ('textarea', 1066, 1077),\n",
       " ('hr', 1684, 8886),\n",
       " ('ins', 687, 1902),\n",
       " ('h3', 9109, 7620),\n",
       " ('article', 335, 178),\n",
       " ('span', 42649, 111684),\n",
       " ('title', 4108, 2942),\n",
       " ('idxskip', 907, 1),\n",
       " ('s', 42, 228),\n",
       " ('div', 121665, 274235),\n",
       " ('strong', 14732, 28711),\n",
       " ('noscript', 2081, 5265),\n",
       " ('embed', 260, 1216),\n",
       " ('var', 0, 170),\n",
       " ('area', 8, 964),\n",
       " ('wbr', 1302, 223),\n",
       " ('nofollow', 16, 137),\n",
       " ('col', 68, 772),\n",
       " ('ul', 10557, 18004),\n",
       " ('label', 2181, 4197),\n",
       " ('cite', 1974, 811),\n",
       " ('dfn', 672, 68),\n",
       " ('legend', 14, 201),\n",
       " ('pre', 8, 189),\n",
       " ('dir', 0, 264),\n",
       " ('noindex', 1813, 11695),\n",
       " ('input', 15565, 29207),\n",
       " ('dd', 2328, 3280),\n",
       " ('h1', 4657, 4805),\n",
       " ('span=\"unp\"', 0, 144),\n",
       " ('dl', 974, 888),\n",
       " ('colgroup', 14, 141),\n",
       " ('map', 3, 243),\n",
       " ('fb:like', 130, 68),\n",
       " ('ol', 1708, 393),\n",
       " ('center', 6796, 7682),\n",
       " ('meta', 14593, 13735),\n",
       " ('address', 13, 327),\n",
       " ('a', 255943, 392243),\n",
       " ('abbr', 634, 410),\n",
       " ('style', 3004, 2483),\n",
       " ('thead', 223, 217),\n",
       " ('i', 9004, 13674),\n",
       " ('head', 4130, 2985),\n",
       " ('code', 6, 561),\n",
       " ('h5', 2755, 1167),\n",
       " ('layer', 0, 280),\n",
       " ('h2', 6328, 7136),\n",
       " ('tt', 7, 164),\n",
       " ('h6', 32, 429),\n",
       " ('big', 222, 1304),\n",
       " ('index', 17, 221),\n",
       " ('object', 272, 1282),\n",
       " ('caption', 103, 52),\n",
       " ('h4', 2496, 2375)]"
      ]
     },
     "execution_count": 241,
     "metadata": {},
     "output_type": "execute_result"
    }
   ],
   "source": [
    "tag_dict = [(key, spam_tags[key], normal_tags[key]) for key in spam_tags.keys() & normal_tags.keys() \n",
    " if spam_tags[key] > 100 or normal_tags[key] > 100]\n",
    "tag_dict"
   ]
  },
  {
   "cell_type": "code",
   "execution_count": 242,
   "metadata": {},
   "outputs": [],
   "source": [
    "# выделяется font, option, idxskip, input, ('address', 12, 159), ('font', 4726, 15491)\n",
    "# ('select', 128, 762)\n",
    "# ('legend', 9, 122)\n",
    "# ('noindex', 628, 4899)\n",
    "# embed, object\n",
    "# cite\n",
    "# iframe\n",
    "# param"
   ]
  },
  {
   "cell_type": "code",
   "execution_count": 245,
   "metadata": {},
   "outputs": [
    {
     "data": {
      "text/plain": [
       "[('rdf:description', 0.0),\n",
       " ('sape_index', 0.0),\n",
       " ('sub', 0.0),\n",
       " ('main_content_block_marker__begin', 0.0),\n",
       " ('pun_navlinks', 0.0),\n",
       " ('kbd', 0.0),\n",
       " ('ooo', 0.0),\n",
       " ('main_content_block_marker__form_end', 0.0),\n",
       " ('string', 0.0),\n",
       " ('e', 0.0),\n",
       " ('news', 0.0),\n",
       " ('format', 0.0),\n",
       " ('main_content_block_marker__exclusion_2_end', 0.0),\n",
       " ('tel', 0.0),\n",
       " ('blink', 0.0),\n",
       " ('script=\"javascript\"', 0.0),\n",
       " ('ilayer', 0.0),\n",
       " ('h7', 0.0),\n",
       " ('main_content_block_marker__form_begin', 0.0),\n",
       " ('pl', 0.0),\n",
       " ('script1', 0.0),\n",
       " ('fb:recommendations', 0.0),\n",
       " ('align=left', 0.0),\n",
       " ('if=\"threaded', 0.0),\n",
       " ('loop', 0.0),\n",
       " ('smallll', 0.0),\n",
       " ('noembed', 0.0),\n",
       " ('main_content_block_marker__end', 0.0),\n",
       " ('img<br', 0.0),\n",
       " ('mdend', 0.0),\n",
       " ('mlp_navigation_menu_item_start', 0.0),\n",
       " ('font=#ffffff', 0.0),\n",
       " ('if', 0.0),\n",
       " ('v:imagedata', 0.0),\n",
       " ('size=\"5\"', 0.0),\n",
       " ('hide', 0.0),\n",
       " ('fb:share-button', 0.0),\n",
       " ('optgroup', 0.0),\n",
       " ('nolayers', 0.0),\n",
       " ('xeanon_uk4x5065y1vrd5fw01pnme36i0cltt', 0.0),\n",
       " ('fb:fan', 0.0),\n",
       " ('spec_mark', 0.0),\n",
       " ('fast', 0.0),\n",
       " ('palign=justify', 0.0),\n",
       " ('middle', 0.0),\n",
       " ('d1', 0.0),\n",
       " ('v:shape', 0.0),\n",
       " ('main_content_block_marker__exclusion_5_begin', 0.0),\n",
       " ('ignore_perlfect_search', 0.0),\n",
       " ('none', 0.0),\n",
       " ('main_content_block_marker__exclusion_4_begin', 0.0),\n",
       " ('fb:comments', 0.0),\n",
       " ('pun_status', 0.0),\n",
       " ('q', 0.0),\n",
       " ('data', 0.0),\n",
       " ('o:lock', 0.0),\n",
       " ('logoteff', 0.0),\n",
       " ('imgsrc=\"http:', 0.0),\n",
       " ('bb', 0.0),\n",
       " ('strike', 0.0),\n",
       " ('main_content_block_marker__exclusion_1_begin', 0.0),\n",
       " ('cnter', 0.0),\n",
       " ('logistepas', 0.0),\n",
       " ('fnput', 0.0),\n",
       " ('work_hours_p', 0.0),\n",
       " ('stations', 0.0),\n",
       " ('class', 0.0),\n",
       " ('size=\"2\"', 0.0),\n",
       " ('mdstart', 0.0),\n",
       " ('ml_code', 0.0),\n",
       " ('noprint', 0.0),\n",
       " ('vb:literal', 0.0),\n",
       " ('marguee', 0.0),\n",
       " ('stong', 0.0),\n",
       " ('st:', 0.0),\n",
       " ('ad', 0.0),\n",
       " ('main_content_block_marker__exclusion_3_begin', 0.0),\n",
       " ('hr_', 0.0),\n",
       " ('rel=\"nofollow\"', 0.0),\n",
       " ('so', 0.0),\n",
       " ('var', 0.0),\n",
       " ('medkrug:logged_id', 0.0),\n",
       " ('yuriiv@mail.ru', 0.0),\n",
       " ('arel=\"nofollow\"', 0.0),\n",
       " ('align=\"left\"', 0.0),\n",
       " ('spec_mark_', 0.0),\n",
       " ('cehter', 0.0),\n",
       " ('nolayer', 0.0),\n",
       " ('v:stroke', 0.0),\n",
       " ('lable', 0.0),\n",
       " ('align=\"center\"', 0.0),\n",
       " ('questions', 0.0),\n",
       " ('login', 0.0),\n",
       " ('main_content_block_marker__exclusion_2_begin', 0.0),\n",
       " ('work_hours_j', 0.0),\n",
       " ('fb:like-box', 0.0),\n",
       " ('align=\"right\"', 0.0),\n",
       " ('manager', 0.0),\n",
       " ('di', 0.0),\n",
       " ('main_content_block_marker__exclusion_3_end', 0.0),\n",
       " ('applet', 0.0),\n",
       " ('odg', 0.0),\n",
       " ('class=\"posttag\"', 0.0),\n",
       " ('jdoc:exists', 0.0),\n",
       " ('atarget=\"_blank\"', 0.0),\n",
       " ('nocharset', 0.0),\n",
       " ('j»hџen', 0.0),\n",
       " ('dir', 0.0),\n",
       " ('colspan=\"2\"', 0.0),\n",
       " ('v:path', 0.0),\n",
       " ('v:f', 0.0),\n",
       " ('nowrap', 0.0),\n",
       " ('posted', 0.0),\n",
       " ('irblock', 0.0),\n",
       " ('v:shapetype', 0.0),\n",
       " ('span=\"unp\"', 0.0),\n",
       " ('title<', 0.0),\n",
       " ('question', 0.0),\n",
       " ('rdf:rdf', 0.0),\n",
       " ('g', 0.0),\n",
       " ('noidex', 0.0),\n",
       " ('answer', 0.0),\n",
       " ('xscript', 0.0),\n",
       " ('main_content_block_marker__exclusion_1_end', 0.0),\n",
       " ('noextlinks', 0.0),\n",
       " ('tcat', 0.0),\n",
       " ('v:formulas', 0.0),\n",
       " ('main_content_block_marker__exclusion_4_end', 0.0),\n",
       " ('nofolow', 0.0),\n",
       " ('hidden', 0.0),\n",
       " ('break', 0.0),\n",
       " ('phone', 0.0),\n",
       " ('bb2', 0.0),\n",
       " ('ad-', 0.0),\n",
       " ('bb1', 0.0),\n",
       " ('color=\"#0000ff\"', 0.0),\n",
       " ('layer', 0.0),\n",
       " ('basefont', 0.0),\n",
       " ('search_indexing', 0.0),\n",
       " ('main_content_block_marker__exclusion_5_end', 0.0),\n",
       " ('endif', 0.0),\n",
       " ('br...<', 0.0),\n",
       " ('ba9fc84a43fd3a5ace6d1ce2a9126c42', 0.0),\n",
       " ('norb', 0.0),\n",
       " ('cut', 0.0),\n",
       " ('xml', 0.0),\n",
       " ('pevzner7552@comcast.net', 0.0),\n",
       " ('area', 0.008290155440414507),\n",
       " ('code', 0.010676156583629894),\n",
       " ('map', 0.012295081967213115),\n",
       " ('button', 0.017733990147783252),\n",
       " ('del', 0.03225806451612903),\n",
       " ('address', 0.039634146341463415),\n",
       " ('pre', 0.042105263157894736),\n",
       " ('tt', 0.04242424242424243),\n",
       " ('marquee', 0.050505050505050504),\n",
       " ('sup', 0.0554675118858954),\n",
       " ('st1:metricconverter', 0.06493506493506493),\n",
       " ('acronym', 0.06779661016949153),\n",
       " ('legend', 0.06930693069306931),\n",
       " ('h6', 0.07441860465116279),\n",
       " ('index', 0.07657657657657657),\n",
       " ('col', 0.08796895213454076),\n",
       " ('colgroup', 0.09859154929577464),\n",
       " ('option', 0.11097568663710677),\n",
       " ('nofollow', 0.11594202898550725),\n",
       " ('nobr', 0.12172611623846345),\n",
       " ('noindex', 0.15501025991792067),\n",
       " ('select', 0.16221255438160348),\n",
       " ('big', 0.17011494252873563),\n",
       " ('param', 0.17176724137931035),\n",
       " ('s', 0.18340611353711792),\n",
       " ('hr', 0.18949026668166985),\n",
       " ('object', 0.21200311769290725),\n",
       " ('embed', 0.21364009860312244),\n",
       " ('o:p', 0.2348993288590604),\n",
       " ('image', 0.25),\n",
       " ('u', 0.26590442685429494),\n",
       " ('blockquote', 0.2662586074980872),\n",
       " ('font', 0.26740988115116393),\n",
       " ('hgroup', 0.2777777777777778),\n",
       " ('script', 0.3147858884486437),\n",
       " ('ins', 0.36100893326326855),\n",
       " ('img', 0.371034825720701),\n",
       " ('span', 0.38186864843085466),\n",
       " ('noscript', 0.3951766046334979),\n",
       " ('td', 0.43970223154891713),\n",
       " ('div', 0.4436507241937601),\n",
       " ('iframe', 0.5),\n",
       " ('b...<', 0.5),\n",
       " ('strong', 0.5130955697966008),\n",
       " ('label', 0.5195331110052406),\n",
       " ('input', 0.5329019446726924),\n",
       " ('small', 0.5415915529229977),\n",
       " ('tr', 0.5477508526296895),\n",
       " ('spacer', 0.5549872122762148),\n",
       " ('b', 0.584340095737406),\n",
       " ('ul', 0.5863371285753958),\n",
       " ('p', 0.5980115710835252),\n",
       " ('tfoot', 0.6),\n",
       " ('link', 0.6093550566859374),\n",
       " ('form', 0.6102508516568597),\n",
       " ('a', 0.6525096623530252),\n",
       " ('table', 0.6540542691175301),\n",
       " ('i', 0.6584277879341864),\n",
       " ('base', 0.6808510638297872),\n",
       " ('th', 0.6999744441604907),\n",
       " ('dd', 0.7095397744590064),\n",
       " ('dt', 0.7337509788566954),\n",
       " ('li', 0.7415336930317988),\n",
       " ('br', 0.8259207303029669),\n",
       " ('center', 0.8845503058701029),\n",
       " ('h2', 0.8866470505814769),\n",
       " ('h1', 0.9689970869746151),\n",
       " ('textarea', 0.9888682745825603),\n",
       " ('rk', 1.0),\n",
       " ('st1:placetype', 1.0),\n",
       " ('alt=\"одноночники', 1.0),\n",
       " ('b<', 1.0),\n",
       " ('tdclass=\"nav', 1.0),\n",
       " ('st1:placename', 1.0),\n",
       " ('tableid=li1', 1.0),\n",
       " ('alt=\"элитные', 1.0),\n",
       " ('st1:city', 1.0),\n",
       " (\"aid='theme_butt'\", 1.0),\n",
       " ('alt=\"секс', 1.0),\n",
       " ('br<', 1.0),\n",
       " ('tableborder=0', 1.0),\n",
       " ('alt=\"жирные', 1.0),\n",
       " ('alt=\"sekc', 1.0),\n",
       " ('st1:street', 1.0),\n",
       " ('right', 1.0),\n",
       " ('tdwidth=650', 1.0),\n",
       " ('alt=\"индивидуалки', 1.0),\n",
       " ('st1:state', 1.0),\n",
       " ('plaintext', 1.0),\n",
       " ('tdclass=\"pages\"', 1.0),\n",
       " ('tdcolspan=\"3\"', 1.0),\n",
       " ('st1:address', 1.0),\n",
       " ('noframes', 1.0),\n",
       " ('metka', 1.0),\n",
       " (\"tdstyle='padding-top:4px;'\", 1.0),\n",
       " ('samp', 1.0),\n",
       " ('thead', 1.0229357798165137),\n",
       " ('h4', 1.0505050505050506),\n",
       " ('meta', 1.0623907979033198),\n",
       " ('dl', 1.095613048368954),\n",
       " ('h3', 1.195249967195906),\n",
       " ('style', 1.209339774557166),\n",
       " ('fieldset', 1.2222222222222223),\n",
       " ('body', 1.3592264831202885),\n",
       " ('html', 1.360699865410498),\n",
       " ('head', 1.3831212324179505),\n",
       " ('title', 1.3958545701664968),\n",
       " ('menu', 1.5),\n",
       " ('abbr', 1.5425790754257906),\n",
       " ('time', 1.6666666666666667),\n",
       " ('article', 1.8715083798882681),\n",
       " ('fb:like', 1.8840579710144927),\n",
       " ('caption', 1.9433962264150944),\n",
       " ('tdvalign=top', 2.0),\n",
       " ('comment', 2.0),\n",
       " (\"color=''\", 2.0),\n",
       " ('nav', 2.2222222222222223),\n",
       " ('em', 2.237347853939782),\n",
       " ('h5', 2.358732876712329),\n",
       " ('cite', 2.4310344827586206),\n",
       " ('footer', 2.5),\n",
       " ('header', 2.642857142857143),\n",
       " ('left', 2.75),\n",
       " ('tdid=\"ubidem\"', 3.0),\n",
       " ('alt=\"проститутки', 3.0),\n",
       " ('formaction=\"', 3.0),\n",
       " ('h8', 3.0),\n",
       " ('o:smarttagtype', 3.0),\n",
       " ('formmethod=\"get\"', 3.0),\n",
       " ('tbody', 3.1363636363636362),\n",
       " ('aside', 3.823529411764706),\n",
       " ('yabarhighlightertag', 4.0),\n",
       " ('tdclass=\"rosagid\"', 4.0),\n",
       " ('b2', 4.0),\n",
       " ('tdclass=\"menuvus\"', 4.0),\n",
       " ('ol', 4.33502538071066),\n",
       " ('st1:personname', 5.0),\n",
       " ('images', 5.0),\n",
       " ('tdclass=\"efukiba\"', 5.0),\n",
       " ('tdid=\"adotuno\"', 5.0),\n",
       " ('wbr', 5.8125),\n",
       " ('tdclass=\"adapusi\"', 6.0),\n",
       " ('tdclass=\"leges\"', 7.0),\n",
       " ('tdclass=\"dadeno\"', 7.0),\n",
       " ('tdclass=\"bedo\"', 7.0),\n",
       " ('g:plusone', 7.0),\n",
       " ('tdid=\"ubabut\"', 8.0),\n",
       " ('tdclass=\"ravono\"', 9.0),\n",
       " ('tdclass=\"goned\"', 9.0),\n",
       " ('dfn', 9.73913043478261),\n",
       " ('section', 14.695652173913043),\n",
       " ('tdid=\"siko\"', 15.0),\n",
       " ('st1:place', 16.0),\n",
       " ('tdclass=\"lofib\"', 22.0),\n",
       " ('frameset', 24.0),\n",
       " ('frame', 25.0),\n",
       " ('imgsrc=\"', 30.0),\n",
       " ('ucwords', 30.0),\n",
       " ('quote', 47.0),\n",
       " ('idxskip', 453.5)]"
      ]
     },
     "execution_count": 245,
     "metadata": {},
     "output_type": "execute_result"
    }
   ],
   "source": [
    "sorted([(key, spam_tags[key] / (normal_tags[key] + 1)) for key in spam_tags.keys() & normal_tags.keys()], key=lambda x: x[1])"
   ]
  }
 ],
 "metadata": {
  "anaconda-cloud": {},
  "kernelspec": {
   "display_name": "Python 3",
   "language": "python",
   "name": "python3"
  },
  "language_info": {
   "codemirror_mode": {
    "name": "ipython",
    "version": 3
   },
   "file_extension": ".py",
   "mimetype": "text/x-python",
   "name": "python",
   "nbconvert_exporter": "python",
   "pygments_lexer": "ipython3",
   "version": "3.7.5"
  }
 },
 "nbformat": 4,
 "nbformat_minor": 1
}
