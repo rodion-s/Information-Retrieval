{
 "cells": [
  {
   "cell_type": "code",
   "execution_count": 5,
   "metadata": {},
   "outputs": [],
   "source": [
    "import numpy as np\n",
    "import pandas as pd\n",
    "from bs4 import BeautifulSoup\n",
    "import bs4\n",
    "import re\n",
    "from multiprocessing import Pool, Lock, Value\n",
    "from time import sleep\n",
    "import os"
   ]
  },
  {
   "cell_type": "code",
   "execution_count": 6,
   "metadata": {},
   "outputs": [
    {
     "name": "stdout",
     "output_type": "stream",
     "text": [
      "['20170702/doc.0000.dat', '20170702/doc.0001.dat']\n"
     ]
    }
   ],
   "source": [
    "docnames = []\n",
    "import functools\n",
    "import operator\n",
    "\n",
    "for d in os.listdir('./content/content'):\n",
    "    listdocs = os.listdir('./content/content' + '/' + d)\n",
    "    listdocs = [d + '/' + doc_name for doc_name in listdocs]\n",
    "    docnames.append(listdocs)\n",
    "docnames = sorted(functools.reduce(operator.iconcat, docnames, []))\n",
    "print(docnames[:2])"
   ]
  },
  {
   "cell_type": "code",
   "execution_count": 7,
   "metadata": {},
   "outputs": [],
   "source": [
    "urls = pd.read_csv('./urls.numerate.txt', sep='\\t', header=None)\n",
    "urls.index = urls[1]"
   ]
  },
  {
   "cell_type": "code",
   "execution_count": 8,
   "metadata": {},
   "outputs": [],
   "source": [
    "def extract_doc_url(docname):\n",
    "    with open('./content/content/' + docname, errors='ignore') as read_file:\n",
    "        html = ' '.join(list(read_file))\n",
    "        return html.split()[0]"
   ]
  },
  {
   "cell_type": "code",
   "execution_count": 9,
   "metadata": {},
   "outputs": [
    {
     "data": {
      "text/plain": [
       "['там', 'было', 'их', 'вдруг', 'была']"
      ]
     },
     "execution_count": 9,
     "metadata": {},
     "output_type": "execute_result"
    }
   ],
   "source": [
    "import pymorphy2\n",
    "import nltk\n",
    "from nltk.corpus import stopwords\n",
    "from nltk.corpus import wordnet as wn\n",
    "morph = pymorphy2.MorphAnalyzer()\n",
    "\n",
    "from bs4 import BeautifulSoup\n",
    "\n",
    "\n",
    "# некоторые стоп слова за таковые не считаем, на всякий случай\n",
    "# иначе что отвечать на запрос \"ЧТО ГДЕ КОГДА\"?\n",
    "my_stopwords = list(set(stopwords.words('russian')) - set(['как', 'когда', 'почему', 'зачем', 'чтобы', 'что']))\n",
    "my_stopwords[:5]"
   ]
  },
  {
   "cell_type": "code",
   "execution_count": 10,
   "metadata": {},
   "outputs": [],
   "source": [
    "# Кеширование очень сильно ускоряет парсинг (примерно в два раза)\n",
    "PYMORPHY_CACHE = {}\n",
    "def lemmatizer(words):\n",
    "    global PYMORPHY_CACHE\n",
    "    for word in words:\n",
    "        word_hash = hash(word)\n",
    "        if word_hash not in PYMORPHY_CACHE:\n",
    "            PYMORPHY_CACHE[word_hash] = morph.parse(word)[0].normal_form\n",
    "        yield PYMORPHY_CACHE[word_hash]"
   ]
  },
  {
   "cell_type": "code",
   "execution_count": 11,
   "metadata": {},
   "outputs": [],
   "source": [
    "import re\n",
    "from bs4.element import Comment\n",
    "\n",
    "\n",
    "pattern = re.compile(r\"[\\W+]\")\n",
    "\n",
    "def tag_visible(element):\n",
    "    if element.parent.name in ['style', 'script', 'head', 'title', 'meta', '[document]']:\n",
    "        return False\n",
    "    if isinstance(element, Comment):\n",
    "        return False\n",
    "    return True\n",
    "\n",
    "\n",
    "def text_from_html(soup):\n",
    "    #soup = BeautifulSoup(body, 'html.parser')\n",
    "    texts = soup.findAll(text=True)\n",
    "    visible_texts = filter(tag_visible, texts)  \n",
    "    return u\" \".join(t.strip() for t in visible_texts)\n",
    "\n",
    "def clear_html(soup):\n",
    "    \"\"\"\n",
    "    Возвращает (массив_слов_из_заголовка, массив_слов_из_текста)\n",
    "    \"\"\"\n",
    "    #[s.extract() for s in soup(['style', 'script', '[document]', 'meta'])]\n",
    "\n",
    "    title = soup.title\n",
    "    if title is not None:\n",
    "        title = title.text\n",
    "        title_words = re.sub(pattern, \" \", title.lower()).split()\n",
    "        #soup.title.extract()\n",
    "    else:\n",
    "        title_words = []\n",
    "\n",
    "    text = text_from_html(soup)\n",
    "    # только буквы и цифры\n",
    "    filtered = re.sub(r\"[\\W+]\", \" \", text.lower())\n",
    "    tokens = filtered.split()\n",
    "    \n",
    "    #длиннее одного символа\n",
    "    tokens = list(filter(lambda c: len(c) > 1, tokens))\n",
    "    \n",
    "   \n",
    "    #lemmatize + stopwords\n",
    "    title_words = [word for word in title_words if word not in my_stopwords and word not in stopwords.words('english')]\n",
    "    title_words = list(lemmatizer(title_words))\n",
    "    \n",
    "    \n",
    "    words = [word for word in tokens if word not in my_stopwords and word not in stopwords.words('english')]\n",
    "    words = list(lemmatizer(words))\n",
    "    \n",
    "    return (title_words, words)"
   ]
  },
  {
   "cell_type": "code",
   "execution_count": 12,
   "metadata": {},
   "outputs": [],
   "source": [
    "def extract_html_from_file(file_name):\n",
    "    \"\"\"\n",
    "    Возвращает (doc_id, (массив_слов_из_заголовка, массив_слов_из_текста) )\n",
    "    \"\"\"\n",
    "    \n",
    "    with open('./content/content/' + file_name, errors='ignore') as read_file:\n",
    "        html = ' '.join(list(read_file))\n",
    "\n",
    "    url = html.split()[0]\n",
    "    soup = BeautifulSoup(' '.join(html.split()[1:]))\n",
    "    doc_id = urls.at[url, 0]\n",
    "    \n",
    "    res = clear_html(soup)\n",
    "    \n",
    "    \n",
    "    with open('text-relevance-parsed/content/content/' + file_name + '.txt', 'w+') as f:\n",
    "        for loc in res:\n",
    "            for item in loc:\n",
    "                f.write(\"%s\\n\" % item)\n",
    "            f.write('\\n')\n",
    "    return"
   ]
  },
  {
   "cell_type": "code",
   "execution_count": 13,
   "metadata": {},
   "outputs": [],
   "source": [
    "for d in os.listdir('./content/content'):\n",
    "    directory = 'text-relevance-parsed/content/content/' + d\n",
    "    if not os.path.exists(directory):\n",
    "        os.makedirs(directory)"
   ]
  },
  {
   "cell_type": "code",
   "execution_count": 16,
   "metadata": {},
   "outputs": [
    {
     "data": {
      "application/vnd.jupyter.widget-view+json": {
       "model_id": "a464255d243d462ead13fe382b9d523a",
       "version_major": 2,
       "version_minor": 0
      },
      "text/plain": [
       "HBox(children=(FloatProgress(value=0.0, max=38114.0), HTML(value='')))"
      ]
     },
     "metadata": {},
     "output_type": "display_data"
    },
    {
     "name": "stdout",
     "output_type": "stream",
     "text": [
      "\n"
     ]
    }
   ],
   "source": [
    "from tqdm.notebook import tqdm\n",
    "\n",
    "for doc in tqdm(docnames):\n",
    "    extract_html_from_file(doc)"
   ]
  }
 ],
 "metadata": {
  "kernelspec": {
   "display_name": "Python 3",
   "language": "python",
   "name": "python3"
  },
  "language_info": {
   "codemirror_mode": {
    "name": "ipython",
    "version": 3
   },
   "file_extension": ".py",
   "mimetype": "text/x-python",
   "name": "python",
   "nbconvert_exporter": "python",
   "pygments_lexer": "ipython3",
   "version": "3.7.4"
  }
 },
 "nbformat": 4,
 "nbformat_minor": 2
}
